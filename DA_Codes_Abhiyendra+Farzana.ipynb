{
 "cells": [
  {
   "cell_type": "markdown",
   "id": "2133bd19",
   "metadata": {},
   "source": [
    "### Import libraries"
   ]
  },
  {
   "cell_type": "code",
   "execution_count": null,
   "id": "d9d956fb",
   "metadata": {},
   "outputs": [],
   "source": [
    "import pandas as pd\n",
    "import numpy as np\n",
    "import matplotlib.pyplot as plt\n",
    "import ipywidgets as widgets\n",
    "from ipywidgets import interact, interactive, fixed, interact_manual\n",
    "from matplotlib import cm\n",
    "import seaborn as sns\n",
    "from collections import Counter\n",
    "\n",
    "#set seaborn style\n",
    "sns.set()\n",
    "sns.set_style(\"whitegrid\")"
   ]
  },
  {
   "cell_type": "markdown",
   "id": "16af691f",
   "metadata": {},
   "source": [
    "# Part 1 – Data Preparation and Pre-processing"
   ]
  },
  {
   "cell_type": "markdown",
   "id": "a46190b7",
   "metadata": {},
   "source": [
    "## A. Describe the dataset. (8 points)"
   ]
  },
  {
   "cell_type": "markdown",
   "id": "13895005",
   "metadata": {},
   "source": [
    "#### 1. Describe the dataset (e.g.: type of column, value range). (1 point)"
   ]
  },
  {
   "cell_type": "code",
   "execution_count": null,
   "id": "c7fd97c3",
   "metadata": {},
   "outputs": [],
   "source": [
    "df = pd.read_csv('data.csv')\n",
    "\n",
    "print(\"The types of data are:\\n\", df.dtypes)"
   ]
  },
  {
   "cell_type": "markdown",
   "id": "d8ef9df5",
   "metadata": {},
   "source": [
    "#### 2. How many records are there in the dataset? (1 point)"
   ]
  },
  {
   "cell_type": "code",
   "execution_count": null,
   "id": "df916b76",
   "metadata": {},
   "outputs": [],
   "source": [
    "print(\"The Dataset consists of: \", df.shape[0], \" rows and \", df.shape[1], \" columuns\")\n",
    "df.head(10)"
   ]
  },
  {
   "cell_type": "markdown",
   "id": "76668aa6",
   "metadata": {},
   "source": [
    "#### 3. Which period does it cover? How many different dates have job postings? (1 point)"
   ]
  },
  {
   "cell_type": "code",
   "execution_count": null,
   "id": "efb89618",
   "metadata": {},
   "outputs": [],
   "source": []
  },
  {
   "cell_type": "code",
   "execution_count": null,
   "id": "a7a803a3",
   "metadata": {},
   "outputs": [],
   "source": []
  },
  {
   "cell_type": "markdown",
   "id": "e0ff11f7",
   "metadata": {},
   "source": [
    "#### 4. How many locations does the dataset have? Which location has the most job postings? (1 point)"
   ]
  },
  {
   "cell_type": "code",
   "execution_count": null,
   "id": "b48ba8bd",
   "metadata": {},
   "outputs": [],
   "source": []
  },
  {
   "cell_type": "code",
   "execution_count": null,
   "id": "d4bb413d",
   "metadata": {},
   "outputs": [],
   "source": []
  },
  {
   "cell_type": "markdown",
   "id": "8405f33d",
   "metadata": {},
   "source": [
    "#### 5. How many job sectors(job classifications) are there in the dataset? List the name of each sector and its’ total of job postings. (1 point)"
   ]
  },
  {
   "cell_type": "code",
   "execution_count": null,
   "id": "7513faee",
   "metadata": {},
   "outputs": [],
   "source": []
  },
  {
   "cell_type": "code",
   "execution_count": null,
   "id": "8e40a975",
   "metadata": {},
   "outputs": [],
   "source": []
  },
  {
   "cell_type": "markdown",
   "id": "cf1e0cb6",
   "metadata": {},
   "source": [
    "#### 6. Choose your favourite job sector (e.g., Information & Communication Technology),  how many sub-sectors are there in that sector? List the name of each sub-sector and its’ job posting number. (1 point)"
   ]
  },
  {
   "cell_type": "code",
   "execution_count": null,
   "id": "3cc9daa6",
   "metadata": {},
   "outputs": [],
   "source": []
  },
  {
   "cell_type": "code",
   "execution_count": null,
   "id": "b72bcaec",
   "metadata": {},
   "outputs": [],
   "source": []
  },
  {
   "cell_type": "markdown",
   "id": "f677da53",
   "metadata": {},
   "source": [
    "#### 7. List the salary ranges and their total of job postings. (1 point)"
   ]
  },
  {
   "cell_type": "code",
   "execution_count": null,
   "id": "0b4e46e9",
   "metadata": {},
   "outputs": [],
   "source": []
  },
  {
   "cell_type": "code",
   "execution_count": null,
   "id": "cbadb503",
   "metadata": {},
   "outputs": [],
   "source": []
  },
  {
   "cell_type": "markdown",
   "id": "731e8c0e",
   "metadata": {},
   "source": [
    "#### 8. List the job types. In each job type, what are the lowest salary and highest salary? (1 point)"
   ]
  },
  {
   "cell_type": "code",
   "execution_count": null,
   "id": "177a61eb",
   "metadata": {},
   "outputs": [],
   "source": []
  },
  {
   "cell_type": "code",
   "execution_count": null,
   "id": "1fbb31c6",
   "metadata": {},
   "outputs": [],
   "source": []
  },
  {
   "cell_type": "markdown",
   "id": "32514f32",
   "metadata": {},
   "source": [
    "## B. Normalize and clean data. (7 points)"
   ]
  },
  {
   "cell_type": "markdown",
   "id": "faa23a33",
   "metadata": {},
   "source": [
    "#### 1. The salaries are kept in the dataset as “HighestSalary” and “LowestSalary”. You  should calculate the “AverageSalary” for each job. (1 point)"
   ]
  },
  {
   "cell_type": "code",
   "execution_count": null,
   "id": "7fc4629a",
   "metadata": {},
   "outputs": [],
   "source": []
  },
  {
   "cell_type": "markdown",
   "id": "f14e8328",
   "metadata": {},
   "source": [
    "#### 2. The raw dataset values of the \"Id\" column had inconsistencies in their representation. The Id values should have 8 number long integers only. Write code to remove unnecessary characters. (1 point)"
   ]
  },
  {
   "cell_type": "code",
   "execution_count": null,
   "id": "b6483a0a",
   "metadata": {},
   "outputs": [],
   "source": []
  },
  {
   "cell_type": "code",
   "execution_count": null,
   "id": "90144f1b",
   "metadata": {},
   "outputs": [],
   "source": []
  },
  {
   "cell_type": "markdown",
   "id": "a570abc8",
   "metadata": {},
   "source": [
    "#### 3. The \"Date\" column is represented in a format that contained both date and time information. However, the time is not correct and should be removed. (1 point)"
   ]
  },
  {
   "cell_type": "code",
   "execution_count": null,
   "id": "93d8f350",
   "metadata": {},
   "outputs": [],
   "source": []
  },
  {
   "cell_type": "code",
   "execution_count": null,
   "id": "8c94e822",
   "metadata": {},
   "outputs": [],
   "source": []
  },
  {
   "cell_type": "markdown",
   "id": "fede0331",
   "metadata": {},
   "source": [
    "#### 4. Change type of “Id” column to numeric and change type of “Date” column to DateTime. (1 point)"
   ]
  },
  {
   "cell_type": "code",
   "execution_count": null,
   "id": "c75f34f8",
   "metadata": {},
   "outputs": [],
   "source": []
  },
  {
   "cell_type": "markdown",
   "id": "167889d2",
   "metadata": {},
   "source": [
    "#### 5. Are there any duplicate data in the dataset? Provide the way you find them and your solution to fix it. ** (1.5 point)"
   ]
  },
  {
   "cell_type": "code",
   "execution_count": null,
   "id": "c8d6795c",
   "metadata": {},
   "outputs": [],
   "source": []
  },
  {
   "cell_type": "code",
   "execution_count": null,
   "id": "3154b617",
   "metadata": {},
   "outputs": [],
   "source": []
  },
  {
   "cell_type": "markdown",
   "id": "76f6676b",
   "metadata": {},
   "source": [
    "#### 6. Check missing data and visualize them in a corresponding chart.** (1.5 point)"
   ]
  },
  {
   "cell_type": "code",
   "execution_count": null,
   "id": "1a691b0e",
   "metadata": {},
   "outputs": [],
   "source": []
  },
  {
   "cell_type": "code",
   "execution_count": null,
   "id": "8cd6df98",
   "metadata": {},
   "outputs": [],
   "source": []
  },
  {
   "cell_type": "markdown",
   "id": "c9bedf83",
   "metadata": {},
   "source": [
    "# Part 2 – Data Understanding. [5 points]"
   ]
  },
  {
   "cell_type": "markdown",
   "id": "5d379f9e",
   "metadata": {},
   "source": [
    "#### 1. Get the salary ranges using “AverageSalary”, the total jobs of each range and display them in the bar chart. (1 point)"
   ]
  },
  {
   "cell_type": "code",
   "execution_count": null,
   "id": "6630c06b",
   "metadata": {},
   "outputs": [],
   "source": []
  },
  {
   "cell_type": "markdown",
   "id": "a8f5ce91",
   "metadata": {},
   "source": [
    "#### 2. Display the list of job types and the number of jobs of each type using pie chart. (1 point)"
   ]
  },
  {
   "cell_type": "code",
   "execution_count": null,
   "id": "40ac7e5f",
   "metadata": {},
   "outputs": [],
   "source": []
  },
  {
   "cell_type": "markdown",
   "id": "e61e7097",
   "metadata": {},
   "source": [
    "#### 3. Display the list of job sectors and the number of jobs of each type using horizontal bar chart. (1 point)"
   ]
  },
  {
   "cell_type": "code",
   "execution_count": null,
   "id": "3a3f7ef5",
   "metadata": {},
   "outputs": [],
   "source": []
  },
  {
   "cell_type": "markdown",
   "id": "97bea5a7",
   "metadata": {},
   "source": [
    "#### 4. Choose your favourite location. Visualize the market share of that location in pie chart.(1 point)"
   ]
  },
  {
   "cell_type": "code",
   "execution_count": null,
   "id": "4b0f047d",
   "metadata": {},
   "outputs": [],
   "source": []
  },
  {
   "cell_type": "markdown",
   "id": "fe046241",
   "metadata": {},
   "source": [
    "#### 5. Can you find the salary distribution for the top 30 cities for the number of job postings? Visualize them in the boxplot chart. (1 point)"
   ]
  },
  {
   "cell_type": "code",
   "execution_count": null,
   "id": "d68c589b",
   "metadata": {},
   "outputs": [],
   "source": []
  },
  {
   "cell_type": "code",
   "execution_count": null,
   "id": "bd726d56",
   "metadata": {},
   "outputs": [],
   "source": []
  },
  {
   "cell_type": "markdown",
   "id": "5957323f",
   "metadata": {},
   "source": [
    "# Part 3 – Data Analysis and Visualisation. [6 points]"
   ]
  },
  {
   "cell_type": "markdown",
   "id": "81dce3ac",
   "metadata": {},
   "source": [
    "## A. Analyse by comparison. (2 points)"
   ]
  },
  {
   "cell_type": "markdown",
   "id": "6eea348f",
   "metadata": {},
   "source": [
    "Choose your two favourite cities/locations. We will explore the difference between them by answering the following questions:\n",
    "\n",
    "#### 1. Which city has more job? How many jobs each type (casual, fulltime, etc.) are there in each city?\n"
   ]
  },
  {
   "cell_type": "code",
   "execution_count": null,
   "id": "47f1d531",
   "metadata": {},
   "outputs": [],
   "source": []
  },
  {
   "cell_type": "markdown",
   "id": "d10c2006",
   "metadata": {},
   "source": [
    "#### 2. In each city, which are top 5 job sectors? How many jobs are there in each sector?"
   ]
  },
  {
   "cell_type": "code",
   "execution_count": null,
   "id": "c0518b4b",
   "metadata": {},
   "outputs": [],
   "source": []
  },
  {
   "cell_type": "code",
   "execution_count": null,
   "id": "465bd86d",
   "metadata": {},
   "outputs": [],
   "source": []
  },
  {
   "cell_type": "markdown",
   "id": "27ee9b85",
   "metadata": {},
   "source": [
    "#### 3. Visualise the top 5 job sectors in pie chart for each city.*"
   ]
  },
  {
   "cell_type": "code",
   "execution_count": null,
   "id": "98162808",
   "metadata": {},
   "outputs": [],
   "source": []
  },
  {
   "cell_type": "markdown",
   "id": "135c4fcf",
   "metadata": {},
   "source": [
    "#### 4. In each city, list the job salary range with the corresponding number of jobs. Which city is more well-paid?"
   ]
  },
  {
   "cell_type": "code",
   "execution_count": null,
   "id": "d02dc31d",
   "metadata": {},
   "outputs": [],
   "source": []
  },
  {
   "cell_type": "markdown",
   "id": "519a1d86",
   "metadata": {},
   "source": [
    "#### 5. List top 5 companies in each city? Which sectors do they belong to?"
   ]
  },
  {
   "cell_type": "code",
   "execution_count": null,
   "id": "2c6f1068",
   "metadata": {},
   "outputs": [],
   "source": []
  },
  {
   "cell_type": "markdown",
   "id": "3d44a31a",
   "metadata": {},
   "source": [
    "#### 6. Between 2 cities, which do you think it is better for employees. Explain your choice.*"
   ]
  },
  {
   "cell_type": "code",
   "execution_count": null,
   "id": "e0144759",
   "metadata": {},
   "outputs": [],
   "source": []
  },
  {
   "cell_type": "markdown",
   "id": "7acc1ad5",
   "metadata": {},
   "source": [
    "## B. Analyse by time. (2 points)"
   ]
  },
  {
   "cell_type": "markdown",
   "id": "0894d2e0",
   "metadata": {},
   "source": [
    "In this part, we will analyse the jobs based on the posting date. "
   ]
  },
  {
   "cell_type": "markdown",
   "id": "529911d7",
   "metadata": {},
   "source": [
    "#### 1. Visualise the number of job posts by month"
   ]
  },
  {
   "cell_type": "code",
   "execution_count": null,
   "id": "e701feb3",
   "metadata": {},
   "outputs": [],
   "source": []
  },
  {
   "cell_type": "markdown",
   "id": "4d176c10",
   "metadata": {},
   "source": [
    "#### 2. Visualise the number of job posts by day of week."
   ]
  },
  {
   "cell_type": "code",
   "execution_count": null,
   "id": "5b7cb13e",
   "metadata": {},
   "outputs": [],
   "source": []
  },
  {
   "cell_type": "markdown",
   "id": "e429fa3f",
   "metadata": {},
   "source": [
    "#### 3. Visualise the number of job posts by day of the month."
   ]
  },
  {
   "cell_type": "code",
   "execution_count": null,
   "id": "37c6f3df",
   "metadata": {},
   "outputs": [],
   "source": []
  },
  {
   "cell_type": "markdown",
   "id": "61c2f0b6",
   "metadata": {},
   "source": [
    "#### 4. Visualise trending of the job postings for the big cities.*"
   ]
  },
  {
   "cell_type": "code",
   "execution_count": null,
   "id": "b5c11e32",
   "metadata": {},
   "outputs": [],
   "source": []
  },
  {
   "cell_type": "markdown",
   "id": "69ef367d",
   "metadata": {},
   "source": [
    "#### 5. Based on the above charts, provide your observation about the number of job posts over time. Give your own conclusion."
   ]
  },
  {
   "cell_type": "code",
   "execution_count": null,
   "id": "f6973886",
   "metadata": {},
   "outputs": [],
   "source": []
  },
  {
   "cell_type": "markdown",
   "id": "a77bde2a",
   "metadata": {},
   "source": [
    "## C. Forecasting and skill extractions. (2 points)"
   ]
  },
  {
   "cell_type": "markdown",
   "id": "72def75b",
   "metadata": {},
   "source": [
    "#### 1. Using moving average for 7 days and 30 days to predict the number of job postings and visualise them in line chart. Which one creates a better prediction? Explain your choice.**\n"
   ]
  },
  {
   "cell_type": "code",
   "execution_count": null,
   "id": "de4147ca",
   "metadata": {},
   "outputs": [],
   "source": []
  },
  {
   "cell_type": "markdown",
   "id": "3606c5f9",
   "metadata": {},
   "source": [
    "#### 2. Choose your favourite job sector/sub-sector, then use TF/IDF to extract important keywords. Visualise them in word cloud chart (hint: you can use the online tool https://wordart.com/create or similar websites)**."
   ]
  },
  {
   "cell_type": "code",
   "execution_count": null,
   "id": "fa8fc2b1",
   "metadata": {},
   "outputs": [],
   "source": []
  },
  {
   "cell_type": "code",
   "execution_count": null,
   "id": "5b61b539",
   "metadata": {},
   "outputs": [],
   "source": []
  }
 ],
 "metadata": {
  "kernelspec": {
   "display_name": "Python 3 (ipykernel)",
   "language": "python",
   "name": "python3"
  },
  "language_info": {
   "codemirror_mode": {
    "name": "ipython",
    "version": 3
   },
   "file_extension": ".py",
   "mimetype": "text/x-python",
   "name": "python",
   "nbconvert_exporter": "python",
   "pygments_lexer": "ipython3",
   "version": "3.9.7"
  }
 },
 "nbformat": 4,
 "nbformat_minor": 5
}
